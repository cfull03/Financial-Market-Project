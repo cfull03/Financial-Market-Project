{
 "cells": [
  {
   "cell_type": "code",
   "execution_count": null,
   "id": "9e4f6df8",
   "metadata": {},
   "outputs": [],
   "source": [
    "from pathlib import Path\n",
    "\n",
    "import pandas as pd\n",
    "\n",
    "from dsproject.config import load as load_config\n",
    "from dsproject.utils.io import read_csv"
   ]
  },
  {
   "cell_type": "code",
   "execution_count": null,
   "id": "3c26ef47",
   "metadata": {},
   "outputs": [],
   "source": [
    "cfg = load_config(Path(\"configs/default.yaml\"))\n",
    "\n",
    "RAW_DIR = cfg.paths.raw_dir\n",
    "INTERIM_DIR = cfg.paths.interim_dir\n",
    "FIGURES_DIR = cfg.paths.figures_dir\n",
    "\n",
    "RAW_DIR, INTERIM_DIR, FIGURES_DIR"
   ]
  },
  {
   "cell_type": "code",
   "execution_count": null,
   "id": "73b17c71",
   "metadata": {},
   "outputs": [],
   "source": [
    "raw_candidates = sorted(Path(RAW_DIR).glob(\"*.csv\"))\n",
    "if not raw_candidates:\n",
    "    raise FileNotFoundError(f\"No raw CSVs found in {RAW_DIR}\")\n",
    "\n",
    "RAW_CSV = raw_candidates[0]\n",
    "RAW_CSV"
   ]
  },
  {
   "cell_type": "code",
   "execution_count": null,
   "id": "895954d1",
   "metadata": {},
   "outputs": [],
   "source": [
    "df_raw = read_csv(RAW_CSV)\n",
    "df_raw.shape, df_raw.head()"
   ]
  },
  {
   "cell_type": "code",
   "execution_count": null,
   "id": "84565eac",
   "metadata": {},
   "outputs": [],
   "source": [
    "# Column summary: dtype + missingness\n",
    "summary = pd.DataFrame(\n",
    "    {\n",
    "        \"column\": df_raw.columns,\n",
    "        \"dtype\": [str(t) for t in df_raw.dtypes],\n",
    "        \"missing_%\": (df_raw.isna().mean() * 100).round(2).values,\n",
    "    }\n",
    ")\n",
    "\n",
    "# Descriptive stats\n",
    "df_raw.describe(include=\"all\").T"
   ]
  },
  {
   "cell_type": "code",
   "execution_count": null,
   "id": "621c4b92",
   "metadata": {},
   "outputs": [],
   "source": [
    "for col in cfg.input.get(\"datetime_columns\", []):\n",
    "    if col in df_raw.columns:\n",
    "        df_raw[col] = pd.to_datetime(df_raw[col], errors=\"coerce\")\n",
    "\n",
    "df_raw.dtypes"
   ]
  }
 ],
 "metadata": {
  "kernelspec": {
   "display_name": "base",
   "language": "python",
   "name": "python3"
  },
  "language_info": {
   "name": "python",
   "version": "3.12.7"
  }
 },
 "nbformat": 4,
 "nbformat_minor": 5
}
